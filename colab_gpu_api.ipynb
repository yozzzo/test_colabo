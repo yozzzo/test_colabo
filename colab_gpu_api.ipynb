{
 "cells": [
  {
   "cell_type": "markdown",
   "metadata": {},
   "source": [
    "# GPU API on Google Colab with FastAPI & ngrok\n",
    "\n",
    "This notebook sets up a FastAPI server on Colab's GPU runtime that:\n",
    "- Accepts image/video uploads via POST `/generate`\n",
    "- Processes files using GPU (placeholder for 3D generation)\n",
    "- Saves results to Google Drive\n",
    "- Returns download URLs\n",
    "- Exposes the API publicly via ngrok"
   ]
  },
  {
   "cell_type": "markdown",
   "metadata": {},
   "source": [
    "## 1️⃣ Install & Imports"
   ]
  },
  {
   "cell_type": "code",
   "execution_count": null,
   "metadata": {},
   "outputs": [],
   "source": [
    "# Install required packages\n",
    "!pip -q install fastapi uvicorn pyngrok nest-asyncio python-multipart"
   ]
  },
  {
   "cell_type": "code",
   "execution_count": null,
   "metadata": {},
   "outputs": [],
   "source": [
    "import os\n",
    "import shutil\n",
    "import asyncio\n",
    "import nest_asyncio\n",
    "from pathlib import Path\n",
    "from datetime import datetime\n",
    "from contextlib import asynccontextmanager\n",
    "\n",
    "from fastapi import FastAPI, UploadFile, File, HTTPException, Header\n",
    "from fastapi.responses import JSONResponse\n",
    "import uvicorn\n",
    "from pyngrok import ngrok\n",
    "from google.colab import drive\n",
    "\n",
    "# Enable nested event loops in Jupyter\n",
    "nest_asyncio.apply()"
   ]
  },
  {
   "cell_type": "markdown",
   "metadata": {},
   "source": [
    "## 2️⃣ API Setup"
   ]
  },
  {
   "cell_type": "code",
   "execution_count": null,
   "metadata": {},
   "outputs": [],
   "source": [
    "# Configuration\n",
    "NGROK_AUTHTOKEN = \"REPLACE_ME\"  # Get from https://dashboard.ngrok.com/auth\n",
    "API_KEY = \"foo\"  # Change this to a secure key in production\n",
    "UPLOAD_DIR = Path(\"/tmp/uploads\")\n",
    "OUTPUT_DIR = Path(\"/content/drive/MyDrive/gpu_api_outputs\")\n",
    "\n",
    "# Create upload directory\n",
    "UPLOAD_DIR.mkdir(exist_ok=True)\n",
    "\n",
    "# Set ngrok auth token\n",
    "ngrok.set_auth_token(NGROK_AUTHTOKEN)"
   ]
  },
  {
   "cell_type": "code",
   "execution_count": null,
   "metadata": {},
   "outputs": [],
   "source": [
    "# Mount Google Drive\n",
    "drive.mount('/content/drive')\n",
    "\n",
    "# Create output directory in Drive\n",
    "OUTPUT_DIR.mkdir(parents=True, exist_ok=True)\n",
    "print(f\"Output directory created at: {OUTPUT_DIR}\")"
   ]
  },
  {
   "cell_type": "code",
   "execution_count": null,
   "metadata": {},
   "outputs": [],
   "source": [
    "@asynccontextmanager\n",
    "async def lifespan(app: FastAPI):\n",
    "    # Startup\n",
    "    print(\"Starting API server...\")\n",
    "    yield\n",
    "    # Shutdown\n",
    "    print(\"Shutting down API server...\")\n",
    "\n",
    "# Create FastAPI app\n",
    "app = FastAPI(\n",
    "    title=\"GPU Processing API\",\n",
    "    description=\"Process images/videos on Colab GPU\",\n",
    "    version=\"1.0.0\",\n",
    "    lifespan=lifespan\n",
    ")"
   ]
  },
  {
   "cell_type": "markdown",
   "metadata": {},
   "source": [
    "## 3️⃣ Upload → Process (Dummy GPU Processing)"
   ]
  },
  {
   "cell_type": "code",
   "execution_count": null,
   "metadata": {},
   "outputs": [],
   "source": [
    "def verify_api_key(api_key: str = Header(None)):\n",
    "    \"\"\"Verify API key for basic authentication\"\"\"\n",
    "    if api_key != API_KEY:\n",
    "        raise HTTPException(status_code=401, detail=\"Invalid API key\")\n",
    "    return api_key\n",
    "\n",
    "\n",
    "def process_with_gpu(input_path: Path, output_path: Path):\n",
    "    \"\"\"\n",
    "    Placeholder for GPU processing.\n",
    "    Replace this with your actual 3D generation code.\n",
    "    \"\"\"\n",
    "    import torch\n",
    "    \n",
    "    # Check if GPU is available\n",
    "    if torch.cuda.is_available():\n",
    "        print(f\"GPU available: {torch.cuda.get_device_name(0)}\")\n",
    "        print(f\"GPU memory: {torch.cuda.get_device_properties(0).total_memory / 1e9:.2f} GB\")\n",
    "    else:\n",
    "        print(\"WARNING: No GPU available, running on CPU\")\n",
    "    \n",
    "    # Placeholder: Copy input to output with timestamp\n",
    "    # Replace this with actual GPU processing\n",
    "    shutil.copy(input_path, output_path)\n",
    "    \n",
    "    # Simulate processing time\n",
    "    import time\n",
    "    time.sleep(2)\n",
    "    \n",
    "    print(f\"Processed {input_path.name} -> {output_path.name}\")"
   ]
  },
  {
   "cell_type": "markdown",
   "metadata": {},
   "source": [
    "## 4️⃣ Google Drive Mount & Save"
   ]
  },
  {
   "cell_type": "code",
   "execution_count": null,
   "metadata": {},
   "outputs": [],
   "source": [
    "@app.post(\"/generate\")\n",
    "async def generate(file: UploadFile = File(...), api_key: str = Header(None)):\n",
    "    \"\"\"Process uploaded file and return download URL\"\"\"\n",
    "    \n",
    "    # Verify API key\n",
    "    verify_api_key(api_key)\n",
    "    \n",
    "    # Validate file\n",
    "    if not file.filename:\n",
    "        raise HTTPException(status_code=400, detail=\"No file provided\")\n",
    "    \n",
    "    # Generate unique filenames\n",
    "    timestamp = datetime.now().strftime(\"%Y%m%d_%H%M%S\")\n",
    "    input_filename = f\"input_{timestamp}_{file.filename}\"\n",
    "    output_filename = f\"output_{timestamp}_{file.filename}\"\n",
    "    \n",
    "    input_path = UPLOAD_DIR / input_filename\n",
    "    output_path = OUTPUT_DIR / output_filename\n",
    "    \n",
    "    try:\n",
    "        # Save uploaded file\n",
    "        with open(input_path, \"wb\") as f:\n",
    "            content = await file.read()\n",
    "            f.write(content)\n",
    "        \n",
    "        # Process with GPU\n",
    "        process_with_gpu(input_path, output_path)\n",
    "        \n",
    "        # Generate shareable link (simplified for demo)\n",
    "        # In production, use Google Drive API for proper sharing\n",
    "        download_url = f\"/content/drive/MyDrive/gpu_api_outputs/{output_filename}\"\n",
    "        \n",
    "        # Clean up input file\n",
    "        input_path.unlink()\n",
    "        \n",
    "        return JSONResponse(\n",
    "            content={\n",
    "                \"status\": \"success\",\n",
    "                \"download_url\": download_url,\n",
    "                \"filename\": output_filename,\n",
    "                \"processed_at\": datetime.now().isoformat()\n",
    "            }\n",
    "        )\n",
    "        \n",
    "    except Exception as e:\n",
    "        # Clean up on error\n",
    "        if input_path.exists():\n",
    "            input_path.unlink()\n",
    "        raise HTTPException(status_code=500, detail=str(e))\n",
    "\n",
    "\n",
    "@app.get(\"/\")\n",
    "async def root():\n",
    "    \"\"\"API health check\"\"\"\n",
    "    return {\n",
    "        \"status\": \"online\",\n",
    "        \"message\": \"GPU Processing API is running\",\n",
    "        \"endpoints\": [\"/\", \"/generate\"]\n",
    "    }"
   ]
  },
  {
   "cell_type": "markdown",
   "metadata": {},
   "source": [
    "## 5️⃣ Print Public URL & Keepalive"
   ]
  },
  {
   "cell_type": "code",
   "metadata": {},
   "outputs": [],
   "source": "# Start the server and create ngrok tunnel\nimport threading\n\n# Start uvicorn in a separate thread\ndef run_server():\n    uvicorn.run(app, host=\"0.0.0.0\", port=8000)\n\n# Start server thread\nserver_thread = threading.Thread(target=run_server, daemon=True)\nserver_thread.start()\n\n# Wait for server to start\nimport time\ntime.sleep(3)\n\n# Create ngrok tunnel\ntunnel = ngrok.connect(8000)\npublic_url = tunnel.public_url\nprint(\"\\n\" + \"=\"*50)\nprint(f\"🚀 API is live at: {public_url}\")\nprint(\"=\"*50)\nprint(f\"\\nTest with:\")\nprint(f\"export PUBLIC_URL='{public_url}'\")\nprint(f\"curl -X POST $PUBLIC_URL/generate -H 'API_KEY: {API_KEY}' -F 'file=@sample.mp4'\")\nprint(\"\\n\" + \"=\"*50)"
  },
  {
   "cell_type": "code",
   "execution_count": null,
   "metadata": {},
   "outputs": [],
   "source": [
    "# Keep the notebook running\n",
    "print(\"\\n⏰ Server is running. Keep this cell executing to maintain the connection.\")\n",
    "print(\"Press 'Stop' to shutdown the server.\\n\")\n",
    "\n",
    "try:\n",
    "    while True:\n",
    "        time.sleep(60)\n",
    "        print(f\"[{datetime.now().strftime('%H:%M:%S')}] Server alive at: {public_url}\")\n",
    "except KeyboardInterrupt:\n",
    "    print(\"\\nShutting down server...\")\n",
    "    ngrok.disconnect(public_url)\n",
    "    ngrok.kill()"
   ]
  }
 ],
 "metadata": {
  "kernelspec": {
   "display_name": "Python 3",
   "language": "python",
   "name": "python3"
  },
  "language_info": {
   "codemirror_mode": {
    "name": "ipython",
    "version": 3
   },
   "file_extension": ".py",
   "mimetype": "text/x-python",
   "name": "python",
   "nbconvert_exporter": "python",
   "pygments_lexer": "ipython3",
   "version": "3.10.12"
  },
  "accelerator": "GPU"
 },
 "nbformat": 4,
 "nbformat_minor": 0
}